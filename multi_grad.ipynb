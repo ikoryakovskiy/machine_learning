{
  "nbformat": 4,
  "nbformat_minor": 0,
  "metadata": {
    "colab": {
      "name": "multi_grad.ipynb",
      "provenance": [],
      "collapsed_sections": [],
      "authorship_tag": "ABX9TyM3WyjJuDVspFXPwv0bXaUt",
      "include_colab_link": true
    },
    "kernelspec": {
      "name": "python3",
      "display_name": "Python 3"
    }
  },
  "cells": [
    {
      "cell_type": "markdown",
      "metadata": {
        "id": "view-in-github",
        "colab_type": "text"
      },
      "source": [
        "<a href=\"https://colab.research.google.com/github/ikoryakovskiy/machine_learning/blob/master/multi_grad.ipynb\" target=\"_parent\"><img src=\"https://colab.research.google.com/assets/colab-badge.svg\" alt=\"Open In Colab\"/></a>"
      ]
    },
    {
      "cell_type": "code",
      "metadata": {
        "id": "b16cGagMItbo"
      },
      "source": [
        "import tensorflow as tf\n",
        "from tensorflow.keras.layers import Conv2D, Dense"
      ],
      "execution_count": null,
      "outputs": []
    },
    {
      "cell_type": "code",
      "metadata": {
        "id": "sgOW2Yr8JLHt"
      },
      "source": [
        "class MyModel(tf.keras.Model):\n",
        "    def __init__(self, **kwargs):\n",
        "        super().__init__(**kwargs)\n",
        "        self.layer = Dense(2, kernel_initializer=tf.constant_initializer(1))\n",
        "\n",
        "        # add weight actually belongs to a layer\n",
        "        self.alpha = self.add_weight(\n",
        "            \"alpha\", shape=[2, 2], trainable=True, initializer=tf.constant_initializer(-1)\n",
        "        )\n",
        "\n",
        "    def call(self, x):\n",
        "        y0 = self.layer(x)\n",
        "        y1 = tf.matmul(x, self.alpha)\n",
        "        z = tf.math.accumulate_n([y0, y1])\n",
        "        return tf.math.reduce_sum(z)\n"
      ],
      "execution_count": null,
      "outputs": []
    },
    {
      "cell_type": "code",
      "metadata": {
        "id": "RIGv4TB5Qsx3",
        "outputId": "fc7fc8c8-0e0c-45e2-88fc-80dcf1386f02",
        "colab": {
          "base_uri": "https://localhost:8080/"
        }
      },
      "source": [
        "#input = tf.keras.Input(shape=(None, 2))\n",
        "model = MyModel()\n",
        "model.build((None, 2))\n",
        "model.compile(optimizer='sgd', loss='mse', metrics='mse')\n",
        "model.summary()"
      ],
      "execution_count": null,
      "outputs": [
        {
          "output_type": "stream",
          "text": [
            "Model: \"my_model_48\"\n",
            "_________________________________________________________________\n",
            "Layer (type)                 Output Shape              Param #   \n",
            "=================================================================\n",
            "dense_59 (Dense)             multiple                  6         \n",
            "=================================================================\n",
            "Total params: 10\n",
            "Trainable params: 10\n",
            "Non-trainable params: 0\n",
            "_________________________________________________________________\n"
          ],
          "name": "stdout"
        }
      ]
    },
    {
      "cell_type": "code",
      "metadata": {
        "id": "czPDdCcA2eRz",
        "outputId": "0ffd09a2-76eb-4b3c-da10-6e72febb9135",
        "colab": {
          "base_uri": "https://localhost:8080/"
        }
      },
      "source": [
        "input = tf.keras.Input(shape=(2,))\n",
        "# input = tf.Variable([[1.0, 1.0]])  # this is equivalent to the previous\n",
        "model(input)\n",
        "print(model.input)\n",
        "print(model.output)"
      ],
      "execution_count": null,
      "outputs": [
        {
          "output_type": "stream",
          "text": [
            "Tensor(\"input_68:0\", shape=(None, 2), dtype=float32)\n",
            "Tensor(\"my_model_48/Sum:0\", shape=(), dtype=float32)\n"
          ],
          "name": "stdout"
        }
      ]
    },
    {
      "cell_type": "code",
      "metadata": {
        "id": "Zlr8UHP1lzGt",
        "outputId": "2065a559-e3c1-4939-ec93-760456e7f563",
        "colab": {
          "base_uri": "https://localhost:8080/"
        }
      },
      "source": [
        "alphas, weights = [], []\n",
        "for tensor in model.trainable_variables:\n",
        "    if \"alpha\" in tensor.name:\n",
        "        alphas.append(tensor)\n",
        "    else:\n",
        "        weights.append(tensor)\n",
        "print(alphas)\n",
        "print(weights)"
      ],
      "execution_count": null,
      "outputs": [
        {
          "output_type": "stream",
          "text": [
            "[<tf.Variable 'alpha:0' shape=(2, 2) dtype=float32, numpy=\n",
            "array([[-1., -1.],\n",
            "       [-1., -1.]], dtype=float32)>]\n",
            "[<tf.Variable 'dense_59/kernel:0' shape=(2, 2) dtype=float32, numpy=\n",
            "array([[1., 1.],\n",
            "       [1., 1.]], dtype=float32)>, <tf.Variable 'dense_59/bias:0' shape=(2,) dtype=float32, numpy=array([0., 0.], dtype=float32)>]\n"
          ],
          "name": "stdout"
        }
      ]
    },
    {
      "cell_type": "code",
      "metadata": {
        "id": "DkmnWcPD7ULX"
      },
      "source": [
        "def apply(vars, grads, lr):\n",
        "    for var, grad in zip(vars, grads):\n",
        "      var.assign_sub(grad * lr)"
      ],
      "execution_count": null,
      "outputs": []
    },
    {
      "cell_type": "code",
      "metadata": {
        "id": "k7QfIQxUMKTm",
        "outputId": "ce901402-fdd1-439e-e3bf-405cb98750e7",
        "colab": {
          "base_uri": "https://localhost:8080/"
        }
      },
      "source": [
        "input = tf.Variable([[1.0, 1.0]])\n",
        "real_y = [4]\n",
        "\n",
        "with tf.GradientTape() as tape:\n",
        "    pred_y = model(input)\n",
        "    model_loss = tf.keras.losses.mse(real_y, pred_y)\n",
        "alpha_grads, weight_grads = tape.gradient(model_loss, (alphas, weights))\n",
        "\n",
        "#print(alpha_grads)\n",
        "#print(weight_grads)\n",
        "\n",
        "print(alphas)\n",
        "print(weights)\n",
        "\n",
        "apply(alphas, alpha_grads, 0.001)\n",
        "apply(weights, weight_grad, 0.05)\n",
        "\n",
        "print(alphas)\n",
        "print(weights)"
      ],
      "execution_count": null,
      "outputs": [
        {
          "output_type": "stream",
          "text": [
            "[<tf.Variable 'alpha:0' shape=(2, 2) dtype=float32, numpy=\n",
            "array([[-1., -1.],\n",
            "       [-1., -1.]], dtype=float32)>]\n",
            "[<tf.Variable 'dense_59/kernel:0' shape=(2, 2) dtype=float32, numpy=\n",
            "array([[1., 1.],\n",
            "       [1., 1.]], dtype=float32)>, <tf.Variable 'dense_59/bias:0' shape=(2,) dtype=float32, numpy=array([0., 0.], dtype=float32)>]\n",
            "[<tf.Variable 'alpha:0' shape=(2, 2) dtype=float32, numpy=\n",
            "array([[-0.992, -0.992],\n",
            "       [-0.992, -0.992]], dtype=float32)>]\n",
            "[<tf.Variable 'dense_59/kernel:0' shape=(2, 2) dtype=float32, numpy=\n",
            "array([[1.5, 1.5],\n",
            "       [1.5, 1.5]], dtype=float32)>, <tf.Variable 'dense_59/bias:0' shape=(2,) dtype=float32, numpy=array([0.5, 0.5], dtype=float32)>]\n"
          ],
          "name": "stdout"
        }
      ]
    }
  ]
}