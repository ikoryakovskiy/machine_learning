{
 "cells": [
  {
   "cell_type": "code",
   "execution_count": 1,
   "metadata": {},
   "outputs": [],
   "source": [
    "\"\"\"\n",
    "python 3.7\n",
    "This file trains a 2-or-4 people face classifier on top of the FaceNet extracted embeddings and compares the result to k-nn classifier.\n",
    "The conclusions from the experiemnts is the following:\n",
    "    - Deep NN classifier trained on top of the embeddings improves classification accuracy from 0.85-0.89 for knn to 0.92-0.95\n",
    "The network architecture was tuned to achieve this accuracy improvement.\n",
    "\"\"\"\n",
    "\n",
    "from collections import defaultdict, Counter\n",
    "import glob\n",
    "import pickle\n",
    "import numpy as np\n",
    "from sklearn.metrics import accuracy_score, recall_score, precision_score, confusion_matrix\n",
    "from sklearn.model_selection import train_test_split\n",
    "import matplotlib.pyplot as plt\n",
    "import itertools\n",
    "import scipy\n",
    "from sklearn.decomposition import PCA\n",
    "\n",
    "import tensorflow as tf\n",
    "import tensorflow.keras as tk\n",
    "import tensorflow.keras.layers as tkl\n",
    "\n",
    "plt.rcParams['figure.figsize'] = [10, 5]"
   ]
  },
  {
   "cell_type": "code",
   "execution_count": 2,
   "metadata": {},
   "outputs": [],
   "source": [
    "def plot_confusion_matrix(cm, classes, title='Confusion matrix', cmap=plt.cm.Blues):\n",
    "    \"\"\"\n",
    "    This function prints and plots the confusion matrix.\n",
    "    Normalization can be applied by setting `normalize=True`.\n",
    "    \"\"\"\n",
    "    plt.figure(figsize=(5, 5))\n",
    "    plt.imshow(cm, interpolation='nearest', cmap=cmap)\n",
    "    plt.title(title)\n",
    "    plt.colorbar()\n",
    "    tick_marks = np.arange(len(classes))\n",
    "    plt.xticks(tick_marks, classes, rotation=45)\n",
    "    plt.yticks(tick_marks, classes)\n",
    "    for i, j in itertools.product(range(cm.shape[0]), range(cm.shape[1])):\n",
    "        plt.text(j, i, cm[i, j], horizontalalignment=\"center\")\n",
    "    plt.tight_layout()\n",
    "    plt.ylabel('True label')\n",
    "    plt.xlabel('Predicted label')"
   ]
  },
  {
   "cell_type": "code",
   "execution_count": 3,
   "metadata": {},
   "outputs": [],
   "source": [
    "def load_embeddings(path, names=None):\n",
    "    embeddings = []\n",
    "    for user_embedding in glob.glob(path):\n",
    "        if names:\n",
    "            found_names = [name in user_embedding for name in names]\n",
    "            if not any(found_names):\n",
    "                continue\n",
    "        with open(user_embedding, 'rb') as embed_file:\n",
    "            user_info = pickle.load(embed_file, encoding='latin1')\n",
    "            for user in user_info:\n",
    "                embeddings.append(user)\n",
    "    return embeddings"
   ]
  },
  {
   "cell_type": "code",
   "execution_count": 4,
   "metadata": {},
   "outputs": [],
   "source": [
    "def get_users(embeddings):\n",
    "    users = set()\n",
    "    for emb in embeddings:\n",
    "        if emb[\"name\"] not in users:\n",
    "            users.add(emb[\"name\"])\n",
    "    return sorted(list(users))"
   ]
  },
  {
   "cell_type": "code",
   "execution_count": 5,
   "metadata": {},
   "outputs": [],
   "source": [
    "def create_dataset(embeddings, user_labels):\n",
    "    x = []\n",
    "    y = []\n",
    "    for emb in embeddings:\n",
    "        x.append(emb['embedding'].flatten())\n",
    "        y.append(user_labels[emb[\"name\"]])\n",
    "    return np.array(x), np.array(y)"
   ]
  },
  {
   "cell_type": "code",
   "execution_count": 6,
   "metadata": {},
   "outputs": [
    {
     "name": "stdout",
     "output_type": "stream",
     "text": [
      "['amanosan', 'person1', 'person2', 'uedasan']\n",
      "{'amanosan': 0, 'person1': 1, 'person2': 2, 'uedasan': 3}\n"
     ]
    }
   ],
   "source": [
    "# Two-people classifier\n",
    "#embeddings = load_embeddings(\"face_embeddings/*.emb\", names={\"amanosan\", \"person2\"})\n",
    "# Four-people classifier\n",
    "embeddings = load_embeddings(\"face_embeddings/*.emb\", names={\"amanosan\", \"uedasan\", \"person1\", \"person2\"})\n",
    "users = get_users(embeddings)\n",
    "user_labels = {name: idx for idx, name in enumerate(users)}\n",
    "print(users)\n",
    "print(user_labels)"
   ]
  },
  {
   "cell_type": "code",
   "execution_count": 7,
   "metadata": {},
   "outputs": [],
   "source": [
    "# prepare data\n",
    "x, y = create_dataset(embeddings, user_labels)\n",
    "x_train, x_test, y_train, y_test = train_test_split(x, y, test_size=0.2)"
   ]
  },
  {
   "cell_type": "code",
   "execution_count": 8,
   "metadata": {},
   "outputs": [],
   "source": [
    "def create_model(input_dim, output_dim, hidden_dim=128):\n",
    "    layers = [\n",
    "        tkl.Dense(hidden_dim, input_dim=input_dim),\n",
    "        tkl.BatchNormalization(),\n",
    "        tkl.ReLU(),\n",
    "        tkl.Dense(hidden_dim, input_dim=input_dim),\n",
    "        tkl.BatchNormalization(),\n",
    "        tkl.ReLU(),\n",
    "        tkl.Dense(output_dim, activation='linear'),\n",
    "    ]\n",
    "    model = tk.Sequential(layers)\n",
    "    \n",
    "    model.compile(optimizer='sgd', loss=tk.losses.SparseCategoricalCrossentropy(from_logits=True))\n",
    "    #model.compile(optimizer='rmsprop', loss=tk.losses.SparseCategoricalCrossentropy(from_logits=True))\n",
    "    return model"
   ]
  },
  {
   "cell_type": "code",
   "execution_count": 9,
   "metadata": {},
   "outputs": [
    {
     "name": "stdout",
     "output_type": "stream",
     "text": [
      "Epoch 1/200\n",
      " 66/123 [===============>..............] - ETA: 0s - loss: 0.9506WARNING:tensorflow:From /home/ivan/anaconda3/envs/py37/lib/python3.7/site-packages/tensorflow/python/ops/resource_variable_ops.py:1817: calling BaseResourceVariable.__init__ (from tensorflow.python.ops.resource_variable_ops) with constraint is deprecated and will be removed in a future version.\n",
      "Instructions for updating:\n",
      "If using Keras pass *_constraint arguments to layers.\n",
      "INFO:tensorflow:Assets written to: face_model/assets\n",
      "123/123 [==============================] - 1s 7ms/step - loss: 0.8340 - val_loss: 1.1656 - lr: 0.0100\n",
      "Epoch 2/200\n",
      " 60/123 [=============>................] - ETA: 0s - loss: 0.6017INFO:tensorflow:Assets written to: face_model/assets\n",
      "123/123 [==============================] - 1s 6ms/step - loss: 0.5349 - val_loss: 0.9217 - lr: 0.0100\n",
      "Epoch 3/200\n",
      " 63/123 [==============>...............] - ETA: 0s - loss: 0.4921INFO:tensorflow:Assets written to: face_model/assets\n",
      "123/123 [==============================] - 1s 7ms/step - loss: 0.4763 - val_loss: 0.6180 - lr: 0.0100\n",
      "Epoch 4/200\n",
      " 60/123 [=============>................] - ETA: 0s - loss: 0.4248INFO:tensorflow:Assets written to: face_model/assets\n",
      "123/123 [==============================] - 1s 6ms/step - loss: 0.3809 - val_loss: 0.3942 - lr: 0.0100\n",
      "Epoch 5/200\n",
      " 60/123 [=============>................] - ETA: 0s - loss: 0.3535INFO:tensorflow:Assets written to: face_model/assets\n",
      "123/123 [==============================] - 1s 6ms/step - loss: 0.3762 - val_loss: 0.2780 - lr: 0.0100\n",
      "Epoch 6/200\n",
      " 61/123 [=============>................] - ETA: 0s - loss: 0.3463INFO:tensorflow:Assets written to: face_model/assets\n",
      "123/123 [==============================] - 1s 7ms/step - loss: 0.3422 - val_loss: 0.2593 - lr: 0.0100\n",
      "Epoch 7/200\n",
      " 61/123 [=============>................] - ETA: 0s - loss: 0.2850INFO:tensorflow:Assets written to: face_model/assets\n",
      "123/123 [==============================] - 1s 6ms/step - loss: 0.2897 - val_loss: 0.2564 - lr: 0.0100\n",
      "Epoch 8/200\n",
      " 62/123 [==============>...............] - ETA: 0s - loss: 0.3289INFO:tensorflow:Assets written to: face_model/assets\n",
      "123/123 [==============================] - 1s 6ms/step - loss: 0.2862 - val_loss: 0.2143 - lr: 0.0100\n",
      "Epoch 9/200\n",
      " 60/123 [=============>................] - ETA: 0s - loss: 0.2459INFO:tensorflow:Assets written to: face_model/assets\n",
      "123/123 [==============================] - 1s 6ms/step - loss: 0.2567 - val_loss: 0.1999 - lr: 0.0100\n",
      "Epoch 10/200\n",
      " 60/123 [=============>................] - ETA: 0s - loss: 0.2697INFO:tensorflow:Assets written to: face_model/assets\n",
      "123/123 [==============================] - 1s 7ms/step - loss: 0.2460 - val_loss: 0.1997 - lr: 0.0100\n",
      "Epoch 11/200\n",
      "123/123 [==============================] - 0s 1ms/step - loss: 0.2278 - val_loss: 0.2156 - lr: 0.0100\n",
      "Epoch 12/200\n",
      "123/123 [==============================] - 0s 976us/step - loss: 0.2169 - val_loss: 0.2149 - lr: 0.0100\n",
      "Epoch 13/200\n",
      "123/123 [==============================] - 0s 980us/step - loss: 0.2158 - val_loss: 0.2053 - lr: 0.0100\n",
      "Epoch 14/200\n",
      "123/123 [==============================] - 0s 951us/step - loss: 0.1962 - val_loss: 0.2005 - lr: 0.0050\n",
      "Epoch 15/200\n",
      "123/123 [==============================] - 0s 967us/step - loss: 0.2101 - val_loss: 0.2169 - lr: 0.0050\n",
      "Epoch 16/200\n",
      "123/123 [==============================] - 0s 994us/step - loss: 0.2160 - val_loss: 0.2229 - lr: 0.0050\n",
      "Epoch 17/200\n",
      "123/123 [==============================] - 0s 957us/step - loss: 0.1592 - val_loss: 0.2119 - lr: 0.0025\n",
      "Epoch 18/200\n",
      "123/123 [==============================] - 0s 991us/step - loss: 0.1640 - val_loss: 0.2120 - lr: 0.0025\n",
      "Epoch 19/200\n",
      "123/123 [==============================] - 0s 994us/step - loss: 0.1875 - val_loss: 0.2162 - lr: 0.0025\n",
      "Epoch 20/200\n",
      "123/123 [==============================] - 0s 1ms/step - loss: 0.1861 - val_loss: 0.2171 - lr: 0.0012\n",
      "Epoch 21/200\n",
      "123/123 [==============================] - 0s 1ms/step - loss: 0.1424 - val_loss: 0.2138 - lr: 0.0012\n",
      "Epoch 22/200\n",
      "123/123 [==============================] - 0s 1ms/step - loss: 0.1511 - val_loss: 0.2091 - lr: 0.0012\n",
      "Epoch 23/200\n",
      "123/123 [==============================] - 0s 1ms/step - loss: 0.1689 - val_loss: 0.2133 - lr: 6.2500e-04\n",
      "Epoch 24/200\n",
      "123/123 [==============================] - 0s 1ms/step - loss: 0.1605 - val_loss: 0.2086 - lr: 6.2500e-04\n",
      "Epoch 25/200\n",
      "123/123 [==============================] - 0s 984us/step - loss: 0.1747 - val_loss: 0.2132 - lr: 6.2500e-04\n",
      "Epoch 26/200\n",
      "123/123 [==============================] - 0s 1ms/step - loss: 0.1524 - val_loss: 0.2143 - lr: 3.1250e-04\n",
      "Epoch 27/200\n",
      "123/123 [==============================] - 0s 1ms/step - loss: 0.1504 - val_loss: 0.2115 - lr: 3.1250e-04\n",
      "Epoch 28/200\n",
      "123/123 [==============================] - 0s 993us/step - loss: 0.1358 - val_loss: 0.2127 - lr: 3.1250e-04\n",
      "Epoch 29/200\n",
      "123/123 [==============================] - 0s 935us/step - loss: 0.1570 - val_loss: 0.2134 - lr: 1.5625e-04\n",
      "Epoch 30/200\n",
      "123/123 [==============================] - 0s 1ms/step - loss: 0.1414 - val_loss: 0.2134 - lr: 1.5625e-04\n",
      "Epoch 00030: early stopping\n"
     ]
    }
   ],
   "source": [
    "model = create_model(input_dim=x.shape[1], output_dim=len(users))\n",
    "callbacks = [\n",
    "    tk.callbacks.EarlyStopping(monitor='val_loss', patience=20, min_delta=0.000, verbose=1),\n",
    "    tk.callbacks.ModelCheckpoint('face_model/', monitor='val_loss', save_best_only=True),\n",
    "    tk.callbacks.ReduceLROnPlateau(monitor='val_loss', factor=0.5, min_lr=1e-4, patience=3)\n",
    "]\n",
    "\n",
    "history = model.fit(x_train, y_train, batch_size=8, epochs=200, validation_split=0.1, callbacks=callbacks)"
   ]
  },
  {
   "cell_type": "code",
   "execution_count": 10,
   "metadata": {},
   "outputs": [
    {
     "data": {
      "text/plain": [
       "<matplotlib.legend.Legend at 0x7f38a8402250>"
      ]
     },
     "execution_count": 10,
     "metadata": {},
     "output_type": "execute_result"
    },
    {
     "data": {
      "image/png": "[encoded data removed]",
      "text/plain": [
       "<Figure size 720x360 with 1 Axes>"
      ]
     },
     "metadata": {
      "needs_background": "light"
     },
     "output_type": "display_data"
    }
   ],
   "source": [
    "loss_plt, = plt.plot(history.history[\"loss\"], label='loss')\n",
    "val_loss_plt, = plt.plot(history.history[\"val_loss\"], label='val_loss')\n",
    "plt.legend(handles=[loss_plt, val_loss_plt])"
   ]
  },
  {
   "cell_type": "code",
   "execution_count": 11,
   "metadata": {},
   "outputs": [
    {
     "name": "stdout",
     "output_type": "stream",
     "text": [
      "Accuracy 0.9197080291970803, precision 0.9197080291970803, recall 0.9197080291970803\n"
     ]
    },
    {
     "data": {
      "image/png": "[encoded data removed]",
      "text/plain": [
       "<Figure size 360x360 with 2 Axes>"
      ]
     },
     "metadata": {
      "needs_background": "light"
     },
     "output_type": "display_data"
    }
   ],
   "source": [
    "restored_model = tk.models.load_model('face_model/')\n",
    "\n",
    "# export this model in TF 1 format\n",
    "model_filename = \"_\".join(users)\n",
    "restored_model.save_weights(f'face_model/{model_filename}_weights.h5')\n",
    "\n",
    "y_hat_logits = restored_model.predict(x_test)\n",
    "y_hat = np.argmax(y_hat_logits, axis=1)\n",
    "accuracy = accuracy_score(y_test, y_hat)\n",
    "precision = precision_score(y_test, y_hat, average='micro')\n",
    "recall = recall_score(y_test, y_hat, average='micro')\n",
    "cm = confusion_matrix(y_test, y_hat)\n",
    "print(f\"Accuracy {accuracy}, precision {precision}, recall {recall}\")\n",
    "plot_confusion_matrix(cm, users)"
   ]
  },
  {
   "cell_type": "code",
   "execution_count": 12,
   "metadata": {},
   "outputs": [
    {
     "name": "stdout",
     "output_type": "stream",
     "text": [
      "{'ivan': 0, 'shubham': 1}\n",
      "Accuracy 0.6012793176972282, precision 0.6012793176972282, recall 0.6012793176972282\n"
     ]
    },
    {
     "data": {
      "image/png": "[encoded data removed]",
      "text/plain": [
       "<Figure size 360x360 with 2 Axes>"
      ]
     },
     "metadata": {
      "needs_background": "light"
     },
     "output_type": "display_data"
    }
   ],
   "source": [
    "# Select a threshold for rejecting unregistered people\n",
    "# if there is no embedding above a certain confidence, then assign it other label\n",
    "th = 0.9\n",
    "other_embeddings = load_embeddings(\"face_embeddings/*.emb\", names={\"ivan\", \"shubham\"})\n",
    "other_users = get_users(other_embeddings)\n",
    "other_user_labels = {name: idx for idx, name in enumerate(other_users)}\n",
    "print(other_user_labels)\n",
    "x_other, y_other = create_dataset(other_embeddings, other_user_labels)\n",
    "y_other[:] = other_label = len(user_labels)  # assign single label to all other people\n",
    "# combine test and other datasets\n",
    "x_test_other = np.vstack((x_test, x_other))\n",
    "y_test_other = np.concatenate((y_test, y_other))\n",
    "y_hat_logits = restored_model.predict(x_test_other)\n",
    "y_hat_softmax = tf.math.softmax(y_hat_logits, axis=1)\n",
    "y_hat_softmax_max = np.max(y_hat_softmax, axis=1)\n",
    "y_hat = np.argmax(y_hat_logits, axis=1)\n",
    "y_hat[y_hat_softmax_max < th] = other_label\n",
    "\n",
    "# plotting\n",
    "accuracy = accuracy_score(y_test_other, y_hat)\n",
    "precision = precision_score(y_test_other, y_hat, average='micro')\n",
    "recall = recall_score(y_test_other, y_hat, average='micro')\n",
    "cm = confusion_matrix(y_test_other, y_hat)\n",
    "print(f\"Accuracy {accuracy}, precision {precision}, recall {recall}\")\n",
    "plot_confusion_matrix(cm, users + ['other'])"
   ]
  },
  {
   "cell_type": "code",
   "execution_count": 13,
   "metadata": {},
   "outputs": [],
   "source": [
    "# Get same result from nearest neighbours\n",
    "def distance(e1, e2):\n",
    "    return np.min(np.linalg.norm(np.subtract(np.array(e1), np.array(e2))))  # Euclidian distance"
   ]
  },
  {
   "cell_type": "code",
   "execution_count": 14,
   "metadata": {},
   "outputs": [],
   "source": [
    "def calculate_distance(x_train, x_test):\n",
    "    distances = [[0] * len(x_train) for _ in range(len(x_test))]\n",
    "    for i, test_embedding in enumerate(x_test):\n",
    "        for j, train_embedding in enumerate(x_train):\n",
    "            distances[i][j] = distance(test_embedding, train_embedding)\n",
    "    distances = np.array(distances)\n",
    "    return distances"
   ]
  },
  {
   "cell_type": "code",
   "execution_count": 15,
   "metadata": {},
   "outputs": [],
   "source": [
    "def knn_predict(th, distances, y_train, neighbours=1):\n",
    "    y_hat = np.empty(distances.shape[0])\n",
    "    rejected = np.ones(distances.shape[0], dtype=np.bool)  # initially mark all as rejected\n",
    "    for i in range(len(distances)):\n",
    "        dist = distances[i]\n",
    "        min_distance_top_n_idxs = np.argpartition(dist, neighbours)[:neighbours]\n",
    "        neighbour_classes = y_train[min_distance_top_n_idxs]\n",
    "        neighbour_counts_per_class = Counter(neighbour_classes)\n",
    "        highest_frequency = max(neighbour_counts_per_class.values())\n",
    "        most_frequent_classes = {name for name, counts in neighbour_counts_per_class.items() if counts == highest_frequency}\n",
    "        if len(most_frequent_classes) > 1:\n",
    "            # when there are several winners (several faces with the same number of counts),\n",
    "            # select the name with the smallest average distance\n",
    "            class_dist = defaultdict(float)\n",
    "            for top_n_idx, top_n_name in enumerate(neighbour_classes):\n",
    "                if top_n_name in most_frequent_classes:\n",
    "                    class_dist[top_n_name] += dist[min_distance_top_n_idxs[top_n_idx]]\n",
    "            best_name, best_distance = min(class_dist.items(), key=lambda x: x[1])\n",
    "            best_distance /= highest_frequency\n",
    "        else:\n",
    "            # when there is a single winner, select the smallest distance as best_distance\n",
    "            best_name = most_frequent_classes.pop()\n",
    "            best_name_idx = min_distance_top_n_idxs[neighbour_classes == best_name][0]\n",
    "            best_distance = dist[best_name_idx]\n",
    "\n",
    "        if best_distance < th:\n",
    "            y_hat[i] = best_name\n",
    "            rejected[i] = False\n",
    "    return y_hat, rejected"
   ]
  },
  {
   "cell_type": "code",
   "execution_count": 16,
   "metadata": {},
   "outputs": [],
   "source": [
    "distances = calculate_distance(x_train, x_test)\n",
    "y_hat, rejected = knn_predict(0.95, distances, y_train, neighbours=4)"
   ]
  },
  {
   "cell_type": "code",
   "execution_count": 17,
   "metadata": {},
   "outputs": [
    {
     "name": "stdout",
     "output_type": "stream",
     "text": [
      "Accuracy 0.8795620437956204, precision 0.8795620437956204, recall 0.8795620437956204\n"
     ]
    },
    {
     "data": {
      "image/png": "[encoded data removed]",
      "text/plain": [
       "<Figure size 360x360 with 2 Axes>"
      ]
     },
     "metadata": {
      "needs_background": "light"
     },
     "output_type": "display_data"
    }
   ],
   "source": [
    "y_hat_wo_rejected = y_hat[rejected == False]\n",
    "y_test_wo_rejected = y_test[rejected == False]\n",
    "accuracy = accuracy_score(y_test_wo_rejected, y_hat_wo_rejected)\n",
    "precision = precision_score(y_test_wo_rejected, y_hat_wo_rejected, average='micro')\n",
    "recall = recall_score(y_test_wo_rejected, y_hat_wo_rejected, average='micro')\n",
    "cm = confusion_matrix(y_test_wo_rejected, y_hat_wo_rejected)\n",
    "print(f\"Accuracy {accuracy}, precision {precision}, recall {recall}\")\n",
    "plot_confusion_matrix(cm, users)"
   ]
  },
  {
   "cell_type": "code",
   "execution_count": null,
   "metadata": {},
   "outputs": [],
   "source": []
  }
 ],
 "metadata": {
  "kernelspec": {
   "display_name": "Python 3",
   "language": "python",
   "name": "python3"
  },
  "language_info": {
   "codemirror_mode": {
    "name": "ipython",
    "version": 3
   },
   "file_extension": ".py",
   "mimetype": "text/x-python",
   "name": "python",
   "nbconvert_exporter": "python",
   "pygments_lexer": "ipython3",
   "version": "3.7.6"
  }
 },
 "nbformat": 4,
 "nbformat_minor": 2
}
