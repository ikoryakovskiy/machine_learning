{
 "cells": [
  {
   "cell_type": "code",
   "execution_count": 1,
   "metadata": {},
   "outputs": [],
   "source": [
    "\"\"\"\n",
    "python 2.7\n",
    "The classifier is used in Brain v2.16. This code verifies that the saved model can be loaded by older version of the tensorflow\n",
    "and work properly.\n",
    "\"\"\"\n",
    "\n",
    "from collections import defaultdict, Counter\n",
    "import glob\n",
    "import pickle\n",
    "import numpy as np\n",
    "from sklearn.metrics import accuracy_score, recall_score, precision_score, confusion_matrix\n",
    "from sklearn.model_selection import train_test_split\n",
    "import matplotlib.pyplot as plt\n",
    "import itertools\n",
    "import scipy\n",
    "import os\n",
    "from sklearn.decomposition import PCA\n",
    "\n",
    "import tensorflow as tf\n",
    "import tensorflow.keras as tk\n",
    "import tensorflow.keras.layers as tkl\n",
    "\n",
    "plt.rcParams['figure.figsize'] = [10, 5]"
   ]
  },
  {
   "cell_type": "code",
   "execution_count": 2,
   "metadata": {},
   "outputs": [],
   "source": [
    "def create_model(input_dim, output_dim, hidden_dim=128):\n",
    "    layers = [\n",
    "        tkl.Dense(hidden_dim, input_dim=input_dim),\n",
    "        tkl.BatchNormalization(),\n",
    "        tkl.ReLU(),\n",
    "        tkl.Dense(hidden_dim, input_dim=input_dim),\n",
    "        tkl.BatchNormalization(),\n",
    "        tkl.ReLU(),\n",
    "        tkl.Dense(output_dim, activation='linear'),\n",
    "    ]\n",
    "    model = tk.Sequential(layers)\n",
    "    return model"
   ]
  },
  {
   "cell_type": "code",
   "execution_count": 3,
   "metadata": {},
   "outputs": [],
   "source": [
    "# There is something different in layer naming between versions\n",
    "filepath = 'face_model/amanosan_person1_person2_uedasan_weights.h5'\n",
    "#filepath = 'face_model/amanosan_person2_weights.h5'\n",
    "names = os.path.basename(filepath).split(\"_\")[:-1]\n",
    "model = create_model(128, len(names))\n",
    "model.load_weights(filepath, by_name=False)"
   ]
  },
  {
   "cell_type": "code",
   "execution_count": 4,
   "metadata": {},
   "outputs": [],
   "source": [
    "def load_embeddings(path, names=None):\n",
    "    embeddings = []\n",
    "    for user_embedding in glob.glob(path):\n",
    "        if names:\n",
    "            found_names = [name in user_embedding for name in names]\n",
    "            if not any(found_names):\n",
    "                continue\n",
    "        with open(user_embedding, 'rb') as embed_file:\n",
    "            user_info = pickle.load(embed_file, encoding='latin1')\n",
    "            for user in user_info:\n",
    "                embeddings.append(user)\n",
    "    return embeddings"
   ]
  },
  {
   "cell_type": "code",
   "execution_count": 5,
   "metadata": {},
   "outputs": [],
   "source": [
    "def create_dataset(embeddings, user_labels):\n",
    "    x = []\n",
    "    y = []\n",
    "    for emb in embeddings:\n",
    "        x.append(emb['embedding'].flatten())\n",
    "        y.append(user_labels[emb[\"name\"]])\n",
    "    return np.array(x), np.array(y)"
   ]
  },
  {
   "cell_type": "code",
   "execution_count": 6,
   "metadata": {},
   "outputs": [],
   "source": [
    "def plot_confusion_matrix(cm, classes, title='Confusion matrix', cmap=plt.cm.Blues):\n",
    "    \"\"\"\n",
    "    This function prints and plots the confusion matrix.\n",
    "    Normalization can be applied by setting `normalize=True`.\n",
    "    \"\"\"\n",
    "    plt.figure(figsize=(5, 5))\n",
    "    plt.imshow(cm, interpolation='nearest', cmap=cmap)\n",
    "    plt.title(title)\n",
    "    plt.colorbar()\n",
    "    tick_marks = np.arange(len(classes))\n",
    "    plt.xticks(tick_marks, classes, rotation=45)\n",
    "    plt.yticks(tick_marks, classes)\n",
    "    for i, j in itertools.product(range(cm.shape[0]), range(cm.shape[1])):\n",
    "        plt.text(j, i, cm[i, j], horizontalalignment=\"center\")\n",
    "    plt.tight_layout()\n",
    "    plt.ylabel('True label')\n",
    "    plt.xlabel('Predicted label')"
   ]
  },
  {
   "cell_type": "code",
   "execution_count": 7,
   "metadata": {},
   "outputs": [
    {
     "name": "stdout",
     "output_type": "stream",
     "text": [
      "['amanosan', 'person1', 'person2', 'uedasan']\n",
      "{'amanosan': 0, 'person1': 1, 'person2': 2, 'uedasan': 3}\n"
     ]
    }
   ],
   "source": [
    "embeddings = load_embeddings(\"face_embeddings/*.emb\", names={\"amanosan\", \"person2\"})  # these are Pascual and Priya\n",
    "users = names\n",
    "user_labels = {name: idx for idx, name in enumerate(users)}\n",
    "print(users)\n",
    "print(user_labels)\n",
    "x, y = create_dataset(embeddings, user_labels)"
   ]
  },
  {
   "cell_type": "code",
   "execution_count": 8,
   "metadata": {},
   "outputs": [
    {
     "name": "stdout",
     "output_type": "stream",
     "text": [
      "Accuracy 0.9750367107195301, precision 0.9750367107195301, recall 0.9750367107195301\n"
     ]
    },
    {
     "data": {
      "image/png": "[encoded data removed]",
      "text/plain": [
       "<Figure size 360x360 with 2 Axes>"
      ]
     },
     "metadata": {
      "needs_background": "light"
     },
     "output_type": "display_data"
    }
   ],
   "source": [
    "y_hat_logits = model.predict(x)\n",
    "y_hat = np.argmax(y_hat_logits, axis=1)\n",
    "accuracy = accuracy_score(y, y_hat)\n",
    "precision = precision_score(y, y_hat, average='micro')\n",
    "recall = recall_score(y, y_hat, average='micro')\n",
    "cm = confusion_matrix(y, y_hat)\n",
    "print(\"Accuracy {}, precision {}, recall {}\".format(accuracy, precision, recall))\n",
    "plot_confusion_matrix(cm, users)"
   ]
  },
  {
   "cell_type": "code",
   "execution_count": null,
   "metadata": {},
   "outputs": [],
   "source": []
  }
 ],
 "metadata": {
  "kernelspec": {
   "display_name": "Python 3",
   "language": "python",
   "name": "python3"
  },
  "language_info": {
   "codemirror_mode": {
    "name": "ipython",
    "version": 3
   },
   "file_extension": ".py",
   "mimetype": "text/x-python",
   "name": "python",
   "nbconvert_exporter": "python",
   "pygments_lexer": "ipython3",
   "version": "3.7.6"
  }
 },
 "nbformat": 4,
 "nbformat_minor": 2
}
